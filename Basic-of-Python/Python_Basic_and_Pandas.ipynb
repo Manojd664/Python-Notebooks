{
 "cells": [
  {
   "cell_type": "code",
   "execution_count": 2,
   "metadata": {},
   "outputs": [
    {
     "name": "stdout",
     "output_type": "stream",
     "text": [
      "Hello , Python\n",
      "Hello, Python 3\n"
     ]
    }
   ],
   "source": [
    "#print() function is used to display any message in python\n",
    "print(\"Hello , Python\")\n",
    "\n",
    "#You can display multiple messages in single print statement\n",
    "print(\"Hello, Python\",3)"
   ]
  },
  {
   "cell_type": "code",
   "execution_count": 4,
   "metadata": {},
   "outputs": [
    {
     "name": "stdout",
     "output_type": "stream",
     "text": [
      "alice 2\n"
     ]
    }
   ],
   "source": [
    "#In python, you can declare any variable by just giving english name and assigning value to it.\n",
    "x=2\n",
    "name=\"alice\"\n",
    "print(name,x)\n",
    "#Python automatically deduce the type of variable"
   ]
  },
  {
   "cell_type": "code",
   "execution_count": 5,
   "metadata": {},
   "outputs": [
    {
     "name": "stdout",
     "output_type": "stream",
     "text": [
      "Enter your name: Manoj\n",
      "Enter your age: 24\n",
      "Name:  Manoj Age:  24\n"
     ]
    }
   ],
   "source": [
    "#input() function is used to read any input from user at run time, by defualt input returs only string input. We need to typecast it\n",
    "name=input(\"Enter your name: \")\n",
    "age=int(input(\"Enter your age: \")) #Here , String age is typecasted to int\n",
    "print(\"Name: \",name,\"Age: \",age)"
   ]
  },
  {
   "cell_type": "code",
   "execution_count": 12,
   "metadata": {},
   "outputs": [
    {
     "name": "stdout",
     "output_type": "stream",
     "text": [
      "Direct Indesing:  Pappu\n",
      "Slicing :  ['Pappu', 'Alice']\n",
      "Iterating using indexing: \n",
      "Manoj Rahul Pappu Alice \n",
      "Iterating direct: \n",
      "Manoj Rahul Pappu Alice \n",
      "Iterating direct: \n",
      "Mr. Manoj Mr. Rahul Mr. Pappu Mr. Alice "
     ]
    }
   ],
   "source": [
    "#This is how you can declare list in python\n",
    "names=[\"Manoj\",\"Rahul\",\"Pappu\",\"Alice\"]\n",
    "#These are the ways to access list elements\n",
    "#Direct indexing\n",
    "print(\"Direct Indesing: \",names[2])\n",
    "#Slicing\n",
    "print(\"Slicing : \",names[2:])\n",
    "#Iterating using indexing\n",
    "print(\"Iterating using indexing: \")\n",
    "for index in range(0,len(names)):\n",
    "    print(names[index],end=\" \")\n",
    "    \n",
    "print()\n",
    "#Iterating direct\n",
    "print(\"Iterating direct: \")\n",
    "for name in names: \n",
    "    print(name,end=\" \")\n",
    "print()    \n",
    "#List Comprehensions: means you are iteration over list and returning modified list\n",
    "modified_names=[\"Mr. \"+name for name in names]\n",
    "\n",
    "#Iterating direct\n",
    "print(\"Iterating direct: \")\n",
    "for name in modified_names: \n",
    "    print(name,end=\" \")"
   ]
  },
  {
   "cell_type": "code",
   "execution_count": 7,
   "metadata": {},
   "outputs": [
    {
     "name": "stdout",
     "output_type": "stream",
     "text": [
      "It is 25\n"
     ]
    }
   ],
   "source": [
    "#If-Else conditions\n",
    "age=25\n",
    "if(age>25):\n",
    "    print(\"Greate than 25\")\n",
    "elif(age==25):\n",
    "    print(\"It is 25\")\n",
    "else: \n",
    "    print(\"Under 25\")"
   ]
  },
  {
   "cell_type": "code",
   "execution_count": 16,
   "metadata": {},
   "outputs": [
    {
     "name": "stdout",
     "output_type": "stream",
     "text": [
      "1 Manoj\n",
      "2 Alice\n",
      "1 Ram\n",
      "2 Bob\n"
     ]
    }
   ],
   "source": [
    "#One more inportant data structure of python is dictionary, Dictionary is collection of key-value paires\n",
    "#Ways to create dictionay\n",
    "#1.Empty dictionary\n",
    "person=dict()\n",
    "#Adding elements to the dictionary\n",
    "person[1]=\"Manoj\"\n",
    "person[2]=\"Alice\"\n",
    "#Iteration over dictionary and displaying the content\n",
    "for key in person:\n",
    "    print(key,person[key])\n",
    "    \n",
    "#You can create dictionary with initial values\n",
    "student={1:\"Ram\",2:\"Bob\"}\n",
    "#Iteration over dictionary and displaying the content\n",
    "for key in student:\n",
    "    print(key,student[key])"
   ]
  },
  {
   "cell_type": "code",
   "execution_count": null,
   "metadata": {
    "collapsed": true
   },
   "outputs": [],
   "source": [
    "#From here, you will see that how to use python,pandas,numpy etc for data analysis\n",
    "#Importing all required libraries\n"
   ]
  }
 ],
 "metadata": {
  "kernelspec": {
   "display_name": "Python 3",
   "language": "python",
   "name": "python3"
  },
  "language_info": {
   "codemirror_mode": {
    "name": "ipython",
    "version": 3
   },
   "file_extension": ".py",
   "mimetype": "text/x-python",
   "name": "python",
   "nbconvert_exporter": "python",
   "pygments_lexer": "ipython3",
   "version": "3.6.3"
  }
 },
 "nbformat": 4,
 "nbformat_minor": 2
}
