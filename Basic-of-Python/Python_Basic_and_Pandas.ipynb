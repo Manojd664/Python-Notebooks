{
 "cells": [
  {
   "cell_type": "code",
   "execution_count": 2,
   "metadata": {},
   "outputs": [
    {
     "name": "stdout",
     "output_type": "stream",
     "text": [
      "Hello , Python\n",
      "Hello, Python 3\n"
     ]
    }
   ],
   "source": [
    "#print() function is used to display any message in python\n",
    "print(\"Hello , Python\")\n",
    "\n",
    "#You can display multiple messages in single print statement\n",
    "print(\"Hello, Python\",3)"
   ]
  },
  {
   "cell_type": "code",
   "execution_count": 4,
   "metadata": {},
   "outputs": [
    {
     "name": "stdout",
     "output_type": "stream",
     "text": [
      "alice 2\n"
     ]
    }
   ],
   "source": [
    "#In python, you can declare any variable by just giving english name and assigning value to it.\n",
    "x=2\n",
    "name=\"alice\"\n",
    "print(name,x)\n",
    "#Python automatically deduce the type of variable"
   ]
  },
  {
   "cell_type": "code",
   "execution_count": 5,
   "metadata": {},
   "outputs": [
    {
     "name": "stdout",
     "output_type": "stream",
     "text": [
      "Enter your name: Manoj\n",
      "Enter your age: 24\n",
      "Name:  Manoj Age:  24\n"
     ]
    }
   ],
   "source": [
    "#input() function is used to read any input from user at run time, by defualt input returs only string input. We need to typecast it\n",
    "name=input(\"Enter your name: \")\n",
    "age=int(input(\"Enter your age: \")) #Here , String age is typecasted to int\n",
    "print(\"Name: \",name,\"Age: \",age)"
   ]
  },
  {
   "cell_type": "code",
   "execution_count": null,
   "metadata": {
    "collapsed": true
   },
   "outputs": [],
   "source": []
  }
 ],
 "metadata": {
  "kernelspec": {
   "display_name": "Python 3",
   "language": "python",
   "name": "python3"
  },
  "language_info": {
   "codemirror_mode": {
    "name": "ipython",
    "version": 3
   },
   "file_extension": ".py",
   "mimetype": "text/x-python",
   "name": "python",
   "nbconvert_exporter": "python",
   "pygments_lexer": "ipython3",
   "version": "3.6.3"
  }
 },
 "nbformat": 4,
 "nbformat_minor": 2
}
